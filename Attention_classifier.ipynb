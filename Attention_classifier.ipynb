{
 "cells": [
  {
   "cell_type": "code",
   "execution_count": null,
   "metadata": {},
   "outputs": [],
   "source": [
    "import numpy as np\n",
    "from sklearn.datasets import fetch_20newsgroups\n",
    "from sklearn.model_selection import train_test_split\n",
    "from tensorflow.keras.preprocessing.text import Tokenizer\n",
    "from tensorflow.keras.preprocessing.sequence import pad_sequences\n",
    "import torch.nn as nn\n",
    "import torch.nn.functional as F\n",
    "import torch.optim as optim\n",
    "import math\n",
    "import torch\n",
    "import matplotlib.pyplot as plt"
   ]
  },
  {
   "cell_type": "code",
   "execution_count": null,
   "metadata": {},
   "outputs": [],
   "source": [
    "#Load the 20 Newsgroups dataset\n",
    "data = fetch_20newsgroups(subset='all', shuffle=True, random_state=42)"
   ]
  },
  {
   "cell_type": "code",
   "execution_count": null,
   "metadata": {},
   "outputs": [],
   "source": [
    "# Preprocess the data\n",
    "texts = data.data\n",
    "labels = torch.LongTensor(data.target)\n"
   ]
  },
  {
   "cell_type": "code",
   "execution_count": null,
   "metadata": {},
   "outputs": [],
   "source": [
    "# Tokenize the texts\n",
    "tokenizer = Tokenizer(num_words=2000, oov_token='<OOV>')\n",
    "tokenizer.fit_on_texts(texts)\n",
    "sequences = tokenizer.texts_to_sequences(texts)"
   ]
  },
  {
   "cell_type": "code",
   "execution_count": null,
   "metadata": {},
   "outputs": [],
   "source": [
    "# Get max training sequence length\n",
    "maxlen = round(np.mean([len(x) for x in sequences]))"
   ]
  },
  {
   "cell_type": "code",
   "execution_count": null,
   "metadata": {},
   "outputs": [],
   "source": [
    "padded =torch.LongTensor(pad_sequences(sequences, padding='post', truncating='post', maxlen=maxlen))\n"
   ]
  },
  {
   "cell_type": "code",
   "execution_count": null,
   "metadata": {},
   "outputs": [],
   "source": [
    "X_train, X_test, y_train, y_test = train_test_split(padded, labels, test_size=0.2, random_state=42)\n"
   ]
  },
  {
   "cell_type": "code",
   "execution_count": null,
   "metadata": {},
   "outputs": [],
   "source": [
    "X_train, X_val, y_train, y_val = train_test_split(X_train,y_train,test_size=0.1,random_state = 42)"
   ]
  },
  {
   "cell_type": "code",
   "execution_count": null,
   "metadata": {},
   "outputs": [],
   "source": [
    "class MultiHeadAttention(nn.Module):\n",
    "    def __init__(self, config):\n",
    "        super(MultiHeadAttention, self).__init__()\n",
    "        assert config.n_embd % config.n_head == 0\n",
    "        \n",
    "        self.config = config\n",
    "        self.n_head = config.n_head\n",
    "        self.n_embd = config.n_embd\n",
    "        self.dropout = config.dropout\n",
    "        # Embedding layer for tokens\n",
    "        self.wte = nn.Embedding(config.vocab_size, config.n_embd)\n",
    "\n",
    "        # Positional embedding layer\n",
    "        self.wpe = nn.Embedding(config.block_size, config.n_embd)\n",
    "\n",
    "        # key, query, value projections for all heads, but in a batch\n",
    "        self.c_attn = nn.Linear(config.n_embd, 3 * config.n_embd, bias=config.bias)\n",
    "\n",
    "        # output projection\n",
    "        self.c_proj = nn.Linear(config.n_embd, config.n_embd, bias=config.bias)\n",
    "                \n",
    "        #layer_normalization\n",
    "        self.ln_1 = nn.LayerNorm(config.n_embd, bias=config.bias)\n",
    "        self.ln_2 = nn.LayerNorm(config.n_embd, bias=config.bias)\n",
    "\n",
    "        self.drop = nn.Dropout(config.dropout)\n",
    "\n",
    "        \n",
    "        self.c_fc = nn.Linear(config.n_embd, 4 * config.n_embd, bias=config.bias)\n",
    "        self.gelu = nn.GELU()\n",
    "        self.c_mlp = nn.Linear(4 * config.n_embd, config.n_embd, bias=config.bias)\n",
    "\n",
    "        # regularization\n",
    "        self.attn_dropout = nn.Dropout(config.dropout)\n",
    "        self.resid_dropout = nn.Dropout(config.dropout)\n",
    "\n",
    "     \n",
    "\n",
    "        # causal mask to ensure that attention is only applied to the left in the input sequence\n",
    "        self.register_buffer(\"bias\", torch.tril(torch.ones(config.block_size, config.block_size))\n",
    "                              .view(1, 1, config.block_size, config.block_size))\n",
    "\n",
    "    def forward(self, idx):\n",
    "        \n",
    "        device = idx.device\n",
    "        b, t = idx.size()\n",
    "        assert t <= self.config.block_size, f\"Cannot forward sequence of length {t}, block size is only {self.config.block_size}\"\n",
    "        pos = torch.arange(0, t, dtype=torch.long, device=device)  # shape (t)\n",
    "\n",
    "        # Forward the model itself\n",
    "        tok_emb = self.wte(idx)  # token embeddings of shape (b, t, n_embd)\n",
    "        pos_emb = self.wpe(pos)  # position embeddings of shape (t, n_embd)\n",
    "        x = self.drop(tok_emb + pos_emb)\n",
    "        \n",
    "        B, T, C = x.size()  # batch size, sequence length, embedding dimensionality (n_embd)\n",
    "\n",
    "        # calculate query, key, values for all heads in batch and move head forward to be the batch dim\n",
    "        q, k, v = self.c_attn(x).split(self.n_embd, dim=2)\n",
    "        k = k.view(B, T, self.n_head, C // self.n_head).transpose(1, 2)  # (B, nh, T, hs)\n",
    "        q = q.view(B, T, self.n_head, C // self.n_head).transpose(1, 2)  # (B, nh, T, hs)\n",
    "        v = v.view(B, T, self.n_head, C // self.n_head).transpose(1, 2)  # (B, nh, T, hs)\n",
    "\n",
    "        # causal self-attention; Self-attend: (B, nh, T, hs) x (B, nh, hs, T) -> (B, nh, T, T)\n",
    "        att = (q @ k.transpose(-2, -1)) * (1.0 / math.sqrt(k.size(-1)))\n",
    "        att = att.masked_fill(self.bias[:, :, :T, :T] == 0, float('-inf'))\n",
    "        att = F.softmax(att, dim=-1)\n",
    "        att = self.attn_dropout(att)\n",
    "        y = att @ v  # (B, nh, T, T) x (B, nh, T, hs) -> (B, nh, T, hs)\n",
    "\n",
    "        y = y.transpose(1, 2).contiguous().view(B, T, C)  # re-assemble all head outputs side by side\n",
    "\n",
    "        # output projection\n",
    "        y = self.resid_dropout(self.c_proj(y))\n",
    "        \n",
    "     \n",
    "        x = self.ln_1(x + y)\n",
    "        m = self.c_fc(x)\n",
    "        m = self.gelu(m)\n",
    "        m = self.c_mlp(m)\n",
    "        m = self.resid_dropout(m)\n",
    "        x = self.ln_2(x + m)\n",
    "\n",
    "        return x"
   ]
  },
  {
   "cell_type": "code",
   "execution_count": null,
   "metadata": {},
   "outputs": [],
   "source": [
    "class Config:\n",
    "    def __init__(self):\n",
    "        self.vocab_size = 2000  # example vocabulary size\n",
    "        self.n_embd = 128  # embedding dimension\n",
    "        self.n_head = 4  # number of heads\n",
    "        self.block_size = 314  # sequence length\n",
    "        self.dropout = 0.1  # dropout rate\n",
    "        self.bias = False  # whether to use bias in linear layers\n",
    "\n",
    "config = Config()"
   ]
  },
  {
   "cell_type": "code",
   "execution_count": null,
   "metadata": {},
   "outputs": [],
   "source": [
    "class TextClassifier(nn.Module):\n",
    "    def __init__(self,config):\n",
    "        super(TextClassifier, self).__init__()\n",
    "        self.transformer = MultiHeadAttention(config)        \n",
    "        self.avg_pool = nn.AdaptiveAvgPool1d(1)\n",
    "        self.dropout = nn.Dropout(config.dropout)\n",
    "        self.fc1 = nn.Linear(config.n_embd, 20)\n",
    "        self.softmax = nn.LogSoftmax(dim=1)\n",
    "\n",
    "    def forward(self, x):\n",
    "        x = self.transformer(x)\n",
    "        x = self.avg_pool(x.permute(0, 2, 1)).squeeze(-1)\n",
    "        x = self.dropout(x)\n",
    "        x = self.fc1(x)\n",
    "        x = self.softmax(x)\n",
    "\n",
    "        return x\n"
   ]
  },
  {
   "cell_type": "code",
   "execution_count": null,
   "metadata": {},
   "outputs": [],
   "source": [
    "config = Config()\n",
    "multihead_attn = TextClassifier(config)"
   ]
  },
  {
   "cell_type": "code",
   "execution_count": null,
   "metadata": {},
   "outputs": [],
   "source": [
    "criterion = nn.CrossEntropyLoss()\n",
    "optimizer = optim.Adam(multihead_attn.parameters(), lr=0.001)"
   ]
  },
  {
   "cell_type": "code",
   "execution_count": null,
   "metadata": {},
   "outputs": [],
   "source": [
    "batch_size = 32\n",
    "epochs = 150\n"
   ]
  },
  {
   "cell_type": "code",
   "execution_count": null,
   "metadata": {},
   "outputs": [],
   "source": [
    "def get_accuracy(y_true, y_prob):\n",
    "    total_sample = len(y_true)\n",
    "    acc = []\n",
    "    for i in range(total_sample):\n",
    "        # Find the index of the maximum probability for this sample\n",
    "        pred_class = np.argmax(y_prob[i])\n",
    "        \n",
    "        # Check if the predicted class matches the true class\n",
    "        if pred_class == y_true[i]:\n",
    "            acc.append(1)\n",
    "        else:\n",
    "            acc.append(0)\n",
    "            \n",
    "    average_acc = sum(acc) / total_sample\n",
    "    return average_acc"
   ]
  },
  {
   "cell_type": "code",
   "execution_count": null,
   "metadata": {},
   "outputs": [],
   "source": [
    "\n",
    "train_losses = []\n",
    "val_losses = []\n",
    "train_accuracy = []\n",
    "for epoch in range(epochs):\n",
    "    total_loss = 0.0\n",
    "    multihead_attn.train()  # Set model to training mode\n",
    "    \n",
    "    # Shuffle the training data indices for each epoch\n",
    "    indices = np.arange(len(X_train))\n",
    "    np.random.shuffle(indices)\n",
    "\n",
    "    for i in range(0, len(X_train), batch_size):\n",
    "        batch_indices = indices[i:i+batch_size]\n",
    "        inputs = X_train[batch_indices]\n",
    "        targets = y_train[batch_indices]\n",
    "        \n",
    "        optimizer.zero_grad()  # Zero the gradients\n",
    "\n",
    "        # Forward pass\n",
    "        outputs = multihead_attn(inputs)\n",
    "\n",
    "        # Compute the loss\n",
    "        loss = F.cross_entropy(outputs, targets)\n",
    "\n",
    "        # Backward pass and optimization\n",
    "        loss.backward()\n",
    "        optimizer.step()\n",
    "\n",
    "    with torch.no_grad():\n",
    "        train_outputs = multihead_attn(X_train)\n",
    "        val_output = multihead_attn(X_val)\n",
    "        train_loss = F.cross_entropy(train_outputs,y_train)\n",
    "        val_loss = F.cross_entropy(val_output,y_val)  \n",
    "        train_losses.append(train_loss.item())\n",
    "        val_losses.append(val_loss.item())\n",
    "        train_accuracy.append(get_accuracy(y_train,train_outputs.detach().numpy()))\n",
    "          \n",
    "        \n",
    "plt.figure(figsize=(10, 5))\n",
    "plt.plot(train_losses, label='Training Loss', color='blue')\n",
    "plt.plot(np.linspace(0, len(train_losses), len(val_losses), endpoint=False), val_losses, label='Validation Loss', color='red')\n",
    "plt.title('Training and Validation Losses')\n",
    "plt.xlabel('Epochs')\n",
    "plt.ylabel('Loss')\n",
    "plt.legend()\n",
    "plt.show()"
   ]
  },
  {
   "cell_type": "code",
   "execution_count": null,
   "metadata": {},
   "outputs": [],
   "source": [
    "plt.plot(train_losses, label='Training Loss', color='blue')\n",
    "plt.plot(np.linspace(0, len(train_losses), len(val_losses), endpoint=False), val_losses, label='Validation Loss', color='red')\n",
    "plt.title('Training and Validation Losses')\n",
    "plt.xlabel('Epochs')\n",
    "plt.ylabel('Loss')\n",
    "plt.legend()\n",
    "plt.show()"
   ]
  },
  {
   "cell_type": "code",
   "execution_count": null,
   "metadata": {},
   "outputs": [],
   "source": [
    "plt.plot(range(1, epochs + 1), train_accuracy)\n",
    "plt.xlabel('Epochs')\n",
    "plt.ylabel('Training Accuracy')\n",
    "plt.title('Training Accuracy vs. Number of Epochs')\n",
    "plt.show()\n",
    "plt.show()"
   ]
  },
  {
   "cell_type": "code",
   "execution_count": null,
   "metadata": {},
   "outputs": [],
   "source": [
    "torch.save(multihead_attn, 'attention.pth')\n"
   ]
  },
  {
   "cell_type": "code",
   "execution_count": null,
   "metadata": {},
   "outputs": [],
   "source": [
    "train_outputs = multihead_attn(X_train).detach().numpy()\n",
    "val_output = multihead_attn(X_val).detach().numpy()\n",
    "test_outputs = multihead_attn(X_test).detach().numpy()"
   ]
  },
  {
   "cell_type": "code",
   "execution_count": null,
   "metadata": {},
   "outputs": [],
   "source": [
    "val_acc = get_accuracy(y_val,val_output)\n",
    "train_acc = get_accuracy(y_train,train_outputs)\n",
    "test_acc = get_accuracy(y_test,test_outputs)\n",
    "print(f\"Val Accuracy: {val_acc} \")\n",
    "print(f\"Test Accuracy: {test_acc} \")\n",
    "print(f\"Train Accuracy: {train_acc} \")\n"
   ]
  }
 ],
 "metadata": {
  "kernelspec": {
   "display_name": "venv",
   "language": "python",
   "name": "python3"
  },
  "language_info": {
   "codemirror_mode": {
    "name": "ipython",
    "version": 3
   },
   "file_extension": ".py",
   "mimetype": "text/x-python",
   "name": "python",
   "nbconvert_exporter": "python",
   "pygments_lexer": "ipython3",
   "version": "3.8.10"
  }
 },
 "nbformat": 4,
 "nbformat_minor": 2
}
